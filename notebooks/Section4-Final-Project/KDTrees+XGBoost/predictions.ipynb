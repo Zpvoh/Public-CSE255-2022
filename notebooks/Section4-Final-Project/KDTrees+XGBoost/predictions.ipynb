{
 "cells": [
  {
   "cell_type": "code",
   "execution_count": 5,
   "id": "074e383e",
   "metadata": {},
   "outputs": [],
   "source": [
    "from lib.KDTreeEncoding import *\n",
    "\n",
    "import xgboost as xgb\n",
    "from lib.XGBHelper import *\n",
    "from lib.XGBoost_params import *\n",
    "from lib.score_analysis import *\n",
    "\n",
    "from lib.logger import logger\n",
    "\n",
    "from sklearn.model_selection import train_test_split\n",
    "import matplotlib.pyplot as plt\n",
    "import numpy as np\n",
    "from numpy import load\n",
    "from glob import glob\n",
    "import pandas as pd\n",
    "import pickle as pkl\n",
    "\n",
    "poverty_dir = '/datasets/cs255-sp22-a00-public/poverty/'\n",
    "image_dir=poverty_dir+'anon_images/'"
   ]
  },
  {
   "cell_type": "code",
   "execution_count": 6,
   "id": "5cfc7efb",
   "metadata": {},
   "outputs": [],
   "source": [
    "import pickle as pkl\n",
    "pkl_file='data/DumpNoSplit.pk'\n",
    "D=pkl.load(open(pkl_file,'rb'))\n",
    "\n",
    "D_urban = pkl.load(open('data/DumpUrban.pk', 'rb'))\n",
    "D_rural = pkl.load(open('data/DumpRural.pk', 'rb'))\n",
    "\n",
    "for k in D:\n",
    "    globals()[k]=(D_urban[k], D_rural[k])\n",
    "scaling_mean=mean\n",
    "scaling_std=std\n",
    "\n",
    "bst_list = []\n",
    "bst_list.append([x['bst'] for x in styled_logs[0][1]['log']])\n",
    "bst_list.append([x['bst'] for x in styled_logs[1][1]['log']])"
   ]
  },
  {
   "cell_type": "code",
   "execution_count": 7,
   "id": "d8fc6ad6",
   "metadata": {},
   "outputs": [],
   "source": [
    "def predict_proc(urban):\n",
    "    idx = 0 if urban else 1\n",
    "    Enc_data=encoded_dataset(image_dir,out.loc[out['urban']==urban],tree[idx],label_col='pred_wo_abstention')\n",
    "    data=to_DMatrix(Enc_data.data)\n",
    "    Preds=zeros([Enc_data.data.shape[0],len(bst_list[idx])])\n",
    "    for i in range(len(bst_list[idx])):\n",
    "        Preds[:,i]=bst_list[idx][i].predict(data,output_margin=True)\n",
    "    Preds=(Preds-scaling_mean[idx])/scaling_std[idx] # apply overall score scaling\n",
    "    \n",
    "    _mean=np.mean(Preds,axis=1)\n",
    "    _std=np.std(Preds,axis=1)\n",
    "\n",
    "    pred_wo_abstention=(2*(_mean>0))-1\n",
    "    pred_with_abstention=copy(pred_wo_abstention)\n",
    "    pred_with_abstention[_std>abs(_mean)]=0\n",
    "\n",
    "    out.loc[out['urban']==urban, 'pred_with_abstention'] = pred_with_abstention.astype('int32')\n",
    "    out.loc[out['urban']==urban, 'pred_wo_abstention'] = pred_wo_abstention.astype('int32')\n",
    "    return out\n",
    "    "
   ]
  },
  {
   "cell_type": "code",
   "execution_count": 8,
   "id": "afd00520",
   "metadata": {},
   "outputs": [
    {
     "name": "stdout",
     "output_type": "stream",
     "text": [
      "3239 image17394.npz\n",
      "\n",
      "------------------------------------------------------------\n",
      "data/results_country.csv\n",
      "2379 image13692.npz\n",
      "\n",
      "------------------------------------------------------------\n",
      "data/results.csv\n"
     ]
    }
   ],
   "source": [
    "folds=[{'in':'country_test_reduct.csv','out':'results_country.csv'},\n",
    "      {'in':'random_test_reduct.csv','out':'results.csv'}]\n",
    "\n",
    "for fold_i in range(len(folds)):\n",
    "    fold=folds[fold_i]\n",
    "\n",
    "    test_csv=f'../public_tables/{fold[\"in\"]}'\n",
    "    test=pd.read_csv(test_csv,index_col=0)\n",
    "\n",
    "    out=pd.DataFrame()\n",
    "    out['filename'] = test['filename']\n",
    "    out['urban']=test['urban']\n",
    "    out['pred_wo_abstention']=0\n",
    "    out.set_index('filename', inplace=True)\n",
    "\n",
    "    out_urban=predict_proc(True)\n",
    "    out_rural=predict_proc(False)\n",
    "    out['pred_with_abstention'] = out['pred_with_abstention'].astype('int32')\n",
    "    out['pred_wo_abstention'] = out['pred_wo_abstention'].astype('int32')\n",
    "\n",
    "    outFile=f'data/{fold[\"out\"]}'\n",
    "    out.to_csv(outFile)\n",
    "    print('\\n\\n'+'-'*60)\n",
    "    print(outFile)"
   ]
  },
  {
   "cell_type": "code",
   "execution_count": null,
   "id": "6992c149",
   "metadata": {},
   "outputs": [],
   "source": []
  }
 ],
 "metadata": {
  "kernelspec": {
   "display_name": "Python 3",
   "language": "python",
   "name": "python3"
  },
  "language_info": {
   "codemirror_mode": {
    "name": "ipython",
    "version": 3
   },
   "file_extension": ".py",
   "mimetype": "text/x-python",
   "name": "python",
   "nbconvert_exporter": "python",
   "pygments_lexer": "ipython3",
   "version": "3.6.13"
  }
 },
 "nbformat": 4,
 "nbformat_minor": 5
}
